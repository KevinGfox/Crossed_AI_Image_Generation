{
 "cells": [
  {
   "cell_type": "code",
   "execution_count": 5,
   "metadata": {},
   "outputs": [],
   "source": [
    "import os\n",
    "import openai\n",
    "import requests\n",
    "os.environ['OPENAI_API_KEY'] = 'OPENAI_API_KEY'\n",
    "os.environ['YOUR_ORG_ID'] = 'YOUR_ORG_ID'"
   ]
  },
  {
   "cell_type": "code",
   "execution_count": null,
   "metadata": {},
   "outputs": [],
   "source": [
    "openai.organization = os.getenv('YOUR_ORG_ID')\n",
    "openai.api_key = os.getenv('OPENAI_API_KEY')\n",
    "openai.Model.list()"
   ]
  },
  {
   "cell_type": "code",
   "execution_count": 1,
   "metadata": {},
   "outputs": [],
   "source": [
    "def generate_image(prompt: str, api_key: str, \n",
    "                   model: str = \"image-alpha-001\", num_images: int = 1, \n",
    "                   size: int = 256, response_format: str = \"url\") -> dict:\n",
    "    # Set the API endpoint URL\n",
    "    api_url = \"https://api.openai.com/v1/images/generations\"\n",
    "    # Set the request headers\n",
    "    headers = {\n",
    "        \"Content-Type\": \"application/json\",\n",
    "        \"Authorization\": f\"Bearer {api_key}\"\n",
    "    }\n",
    "    # Set the request payload\n",
    "    data = \"\"\"{\"\"\"\n",
    "    data += f'\"model\": \"{model}\",'\n",
    "    data += f'\"prompt\": \"{prompt}\",'\n",
    "    data += f'\"num_images\": {num_images},'\n",
    "    data += f'\"size\": {size},'\n",
    "    data += f'\"response_format\": \"{response_format}\"'\n",
    "    data += \"\"\"}\"\"\"\n",
    "\n",
    "    # Make the API request\n",
    "    response = requests.post(api_url, headers=headers, data=data)\n",
    "    # Check the status code of the response\n",
    "    if response.status_code != 200:\n",
    "        raise Exception(f\"Request failed with status code {response.status_code}\")\n",
    "    # Return the response\n",
    "    return response.json()"
   ]
  }
 ],
 "metadata": {
  "kernelspec": {
   "display_name": "Python 3",
   "language": "python",
   "name": "python3"
  },
  "language_info": {
   "codemirror_mode": {
    "name": "ipython",
    "version": 3
   },
   "file_extension": ".py",
   "mimetype": "text/x-python",
   "name": "python",
   "nbconvert_exporter": "python",
   "pygments_lexer": "ipython3",
   "version": "3.9.6"
  },
  "orig_nbformat": 4,
  "vscode": {
   "interpreter": {
    "hash": "3440fa40ac2c39878b83ee7a6e81824601a62799733fc81e385c4ef9c8700d77"
   }
  }
 },
 "nbformat": 4,
 "nbformat_minor": 2
}
